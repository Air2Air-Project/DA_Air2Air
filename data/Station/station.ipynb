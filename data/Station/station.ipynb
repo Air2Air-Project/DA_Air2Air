{
 "cells": [
  {
   "cell_type": "code",
   "execution_count": 3,
   "metadata": {},
   "outputs": [],
   "source": [
    "import pandas as pd\n",
    "import requests\n",
    "import json"
   ]
  },
  {
   "cell_type": "code",
   "execution_count": 2,
   "metadata": {},
   "outputs": [],
   "source": [
    "url = 'https://apis.data.go.kr/B552584/MsrstnInfoInqireSvc/getMsrstnList?serviceKey=wWIZnh2F7kAQ0sSFWjDSyGd2w71lLGLAR8GfGOjg9ZFnkwBMOqfZRwDpz%2FIXPEgLL6ywEgWAnsczb5LpRWRZ5w%3D%3D&returnType=json&numOfRows=200&pageNo=1&addr=%EA%B2%BD%EB%82%A8'"
   ]
  },
  {
   "cell_type": "code",
   "execution_count": 3,
   "metadata": {},
   "outputs": [],
   "source": [
    "response = requests.get(url)\n",
    "data = response.json()"
   ]
  },
  {
   "cell_type": "code",
   "execution_count": 5,
   "metadata": {},
   "outputs": [],
   "source": [
    "with open(\"station\", 'w') as f:\n",
    "    json.dump(data, f, indent=4)"
   ]
  },
  {
   "cell_type": "code",
   "execution_count": 6,
   "metadata": {},
   "outputs": [],
   "source": [
    "with open('station', 'r') as f:\n",
    "    data = json.load(f)"
   ]
  },
  {
   "cell_type": "code",
   "execution_count": 7,
   "metadata": {},
   "outputs": [
    {
     "name": "stdout",
     "output_type": "stream",
     "text": [
      "{'response': {'body': {'totalCount': 49, 'items': [{'dmX': '35.11497', 'item': 'SO2, CO, O3, NO2, PM10, PM2.5', 'mangName': '도로변대기', 'year': '2022', 'addr': '경남 창원시 마산합포구 진동면 삼진의거대로 621 진동시외버스정류장 앞', 'stationName': '삼진로', 'dmY': '128.48581'}, {'dmX': '35.154972', 'item': 'SO2, CO, O3, NO2, PM10, PM2.5', 'mangName': '도시대기', 'year': '1994', 'addr': '경남 창원시 진해구 경화로16번길 31 (병암동주민센터)', 'stationName': '경화동', 'dmY': '128.689578'}, {'dmX': '35.183108', 'item': 'SO2, CO, O3, NO2, PM10, PM2.5', 'mangName': '도시대기', 'year': '2019', 'addr': '경남 창원시 마산합포구 월영동16길 22 마산합포구도서관 옥상 (해운동)', 'stationName': '월영동', 'dmY': '128.560665'}, {'dmX': '35.066944', 'item': 'SO2, CO, O3, NO2, PM10, PM2.5', 'mangName': '도시대기', 'year': '2007', 'addr': '경남 하동군 하동읍 군청로 23 (하동군청)', 'stationName': '하동읍', 'dmY': '127.751389'}, {'dmX': '34.965927', 'item': 'SO2, CO, O3, NO2, PM10, PM2.5', 'mangName': '도시대기', 'year': '2021', 'addr': '경남 하동군 금성면 금성중앙길 14 금성꿈나무어린이집 옥상', 'stationName': '금성면', 'dmY': '127.794191'}, {'dmX': '35.236667', 'item': 'SO2, CO, O3, NO2, PM10, PM2.5', 'mangName': '도시대기', 'year': '1995', 'addr': '경남 김해시 호계로 517번길 8 (동상동 주민센터)', 'stationName': '동상동', 'dmY': '128.883333'}, {'dmX': '35.243889', 'item': 'SO2, CO, O3, NO2, PM10, PM2.5', 'mangName': '도시대기', 'year': '2005', 'addr': '경남 김해시 활천로 303 (신어초등학교)', 'stationName': '삼방동', 'dmY': '128.912222'}, {'dmX': '35.202364', 'item': 'SO2, CO, O3, NO2, PM10, PM2.5', 'mangName': '도시대기', 'year': '2013', 'addr': '경남 김해시 장유동 능동로 149 (장유건강지원센터)', 'stationName': '장유동', 'dmY': '128.807221'}, {'dmX': '35.3077015', 'item': 'SO2, CO, O3, NO2, PM10, PM2.5', 'mangName': '도시대기', 'year': '2019', 'addr': '경남 김해시 진영읍 김해대로365번길 6-24 진영건강증진센터 옥상', 'stationName': '진영읍', 'dmY': '128.7311228'}, {'dmX': '35.227745', 'item': 'SO2, CO, O3, NO2, PM10, PM2.5', 'mangName': '도로변대기', 'year': '2021', 'addr': '경남 김해시 김해대로 2515 인제대역 환승주차장 (삼정동)', 'stationName': '김해대로', 'dmY': '128.901042'}, {'dmX': '35.245937', 'item': 'SO2, CO, O3, NO2, PM10, PM2.5', 'mangName': '도시대기', 'year': '2024', 'addr': '경남 김해시 진례면 진례로 241 진레면사무소 옥상', 'stationName': '진례면', 'dmY': '128.750295'}, {'dmX': '34.71005', 'item': 'SO2, CO, O3, NO2, PM10, PM2.5', 'mangName': '교외대기', 'year': '1999', 'addr': '경남 거제시 남부면 저구리 산 116번지', 'stationName': '저구리', 'dmY': '128.58745'}, {'dmX': '34.863611', 'item': 'SO2, CO, O3, NO2, PM10, PM2.5', 'mangName': '도시대기', 'year': '2022', 'addr': '경남 거제시 아주동 산164-1 거제시 옥포 유해대기측정소', 'stationName': '아주동', 'dmY': '128.690278'}, {'dmX': '34.88053905', 'item': 'SO2, CO, O3, NO2, PM10, PM2.5', 'mangName': '도시대기', 'year': '2020', 'addr': '경남 거제시 계룡로 125 거제시청 옥상 (고현동)', 'stationName': '고현동', 'dmY': '128.62112946'}, {'dmX': '35.082551', 'item': 'SO2, CO, O3, NO2, PM10, PM2.5', 'mangName': '도시대기', 'year': '2013', 'addr': '경남 사천시 사천읍 읍내로 52 (사천읍사무소)', 'stationName': '사천읍', 'dmY': '128.091236'}, {'dmX': '34.9337038611', 'item': 'SO2, CO, O3, NO2, PM10, PM2.5', 'mangName': '도시대기', 'year': '2020', 'addr': '경남 사천시 향촌5길 28 향촌동행정복지센터 옥상 (향촌동)', 'stationName': '향촌동', 'dmY': '128.09344675'}, {'dmX': '35.371633', 'item': 'SO2, CO, O3, NO2, PM10, PM2.5', 'mangName': '교외대기', 'year': '2008', 'addr': '경남 창원시 의창구 대산면 갈전로99번길 100 ', 'stationName': '대산면', 'dmY': '128.676483'}, {'dmX': '35.345556', 'item': 'SO2, CO, O3, NO2, PM10, PM2.5', 'mangName': '도시대기', 'year': '1999', 'addr': '경남 양산시 북안남5길 21 중앙동주민센터 (북부동)', 'stationName': '북부동', 'dmY': '129.04'}, {'dmX': '35.414667', 'item': 'SO2, CO, O3, NO2, PM10, PM2.5', 'mangName': '도시대기', 'year': '2004', 'addr': '경남 양산시 삼호9길 11 웅상노인복지회관 (삼호동)', 'stationName': '삼호동', 'dmY': '129.172083'}, {'dmX': '35.310414', 'item': 'SO2, CO, O3, NO2, PM10, PM2.5', 'mangName': '도시대기', 'year': '2020', 'addr': '경남 양산시 물금읍 황산로 384 물금읍행정복지센터 옥상', 'stationName': '물금읍', 'dmY': '128.987347'}, {'dmX': '35.493678', 'item': 'SO2, CO, O3, NO2, PM10, PM2.5', 'mangName': '도시대기', 'year': '2017', 'addr': '경남 밀양시 중앙로 346 내일동주민센터 (내일동)', 'stationName': '내일동', 'dmY': '128.754168'}, {'dmX': '34.857173', 'item': 'SO2, CO, O3, NO2, PM10, PM2.5', 'mangName': '도시대기', 'year': '2017', 'addr': '경남 통영시 안개4길 53 무전동주민센터 (무전동)', 'stationName': '무전동', 'dmY': '128.432385'}, {'dmX': '34.974543611', 'item': 'SO2, CO, O3, NO2, PM10, PM2.5', 'mangName': '도시대기', 'year': '2018', 'addr': '경남 고성군 고성읍 중앙로 35 고성읍보건지소 2층 옥상', 'stationName': '고성읍', 'dmY': '128.324369805'}, {'dmX': '35.6782', 'item': 'SO2, CO, O3, NO2, PM10, PM2.5', 'mangName': '도시대기', 'year': '2018', 'addr': '경남 거창군 거창읍 거함대로 3252 자전거교통안전교육장 옥상', 'stationName': '거창읍', 'dmY': '127.920092'}, {'dmX': '35.2720132', 'item': 'SO2, CO, O3, NO2, PM10, PM2.5', 'mangName': '도시대기', 'year': '2018', 'addr': '경남 함안군 가야읍 함안대로 505 가야읍행정복지센터 옥상', 'stationName': '가야읍', 'dmY': '128.408105'}, {'dmX': '35.5211721', 'item': 'SO2, CO, O3, NO2, PM10, PM2.5', 'mangName': '도시대기', 'year': '2018', 'addr': '경남 함양군 함양읍 고운로 35 함양군청 민원봉사과 옥상', 'stationName': '함양읍', 'dmY': '127.7244433'}, {'dmX': '34.8318834', 'item': 'SO2, CO, O3, NO2, PM10, PM2.5', 'mangName': '도시대기', 'year': '2018', 'addr': '경남 남해군 남해읍 남해대로 2745 남해유배문학관 옥상', 'stationName': '남해읍', 'dmY': '127.899848'}, {'dmX': '35.412344', 'item': 'SO2, CO, O3, NO2, PM10, PM2.5', 'mangName': '도시대기', 'year': '2019', 'addr': '경남 산청군 산청읍 산엔청로 1 산청군청 주차장 지상', 'stationName': '산청읍', 'dmY': '127.87597'}, {'dmX': '35.643167', 'item': 'SO2, CO, O3, NO2, PM10, PM2.5', 'mangName': '교외대기', 'year': '2003', 'addr': '경남 거창군 남상면 인평길 36 남상면사무소', 'stationName': '남상면', 'dmY': '127.9105'}, {'dmX': '35.315748', 'item': 'SO2, CO, O3, NO2, PM10, PM2.5', 'mangName': '도시대기', 'year': '2019', 'addr': '경남 의령군 의령읍 의병로8길 44 서동생활공원 지상', 'stationName': '의령읍', 'dmY': '128.253757'}, {'dmX': '35.5452909', 'item': 'SO2, CO, O3, NO2, PM10, PM2.5', 'mangName': '도시대기', 'year': '2019', 'addr': '경남 창녕군 창녕읍 우포2로 1189-35 정신건강복지센터 옥상', 'stationName': '창녕읍', 'dmY': '128.4883674'}, {'dmX': '35.56723', 'item': 'SO2, CO, O3, NO2, PM10, PM2.5', 'mangName': '도시대기', 'year': '2019', 'addr': '경남 합천군 합천읍 대야로 888-20 보훈회관 옥상', 'stationName': '합천읍', 'dmY': '128.16517'}, {'dmX': '35.191823', 'item': 'SO2, CO, O3, NO2, PM10, PM2.5', 'mangName': '항만', 'year': '2020', 'addr': '경남 창원시 성산구 적현로 424 (귀곡동)', 'stationName': '마산항', 'dmY': '128.591172'}, {'dmX': '34.5643', 'item': 'SO2, CO, O3, NO2, PM10, PM2.5', 'mangName': '항만', 'year': '2023', 'addr': '경남 하동군 금성면 경제산업로 509 경남 하동군', 'stationName': '하동항', 'dmY': '127.4918'}, {'dmX': '34.91826562', 'item': 'SO2, CO, O3, NO2, PM10, PM2.5', 'mangName': '항만', 'year': '2023', 'addr': '경남 사천시 향촌동 1292 삼천포항 내', 'stationName': '삼천포항', 'dmY': '128.08430936'}, {'dmX': '35.077711', 'item': 'SO2, CO, O3, NO2, PM10, PM2.5', 'mangName': '항만', 'year': '2020', 'addr': '부산광역시 강서구 신항남로 354 부산신항만 내 (성북동) (실주소 : 경남 창원시 진해구 신항로 434(안골동))', 'stationName': '부산항', 'dmY': '128.784773'}, {'dmX': '35.21815', 'item': 'SO2, CO, O3, NO2, PM10, PM2.5', 'mangName': '도시대기', 'year': '1993', 'addr': '경남 창원시 마산회원구 회원동 11번길 7 (회원1동 주민센터)', 'stationName': '회원동', 'dmY': '128.57425'}, {'dmX': '35.2178', 'item': 'SO2, CO, O3, NO2, PM10, PM2.5', 'mangName': '도시대기', 'year': '1995', 'addr': '경남 창원시 마산회원구 봉양로 148 봉암동 주민센터 (봉암동)', 'stationName': '봉암동', 'dmY': '128.6023'}, {'dmX': '35.2258303611', 'item': 'SO2, CO, O3, NO2, PM10, PM2.5', 'mangName': '도시대기', 'year': '2020', 'addr': '경남 창원시 마산회원구 내서읍 광려로 8 삼계근린공원 지상', 'stationName': '내서읍', 'dmY': '128.50325827'}, {'dmX': '35.195891', 'item': 'SO2, CO, O3, NO2, PM10, PM2.5', 'mangName': '도시대기', 'year': '2022', 'addr': '경남 진주시 북장대로64번길 14 중앙119안전센터 옥상 (봉곡동)', 'stationName': '상봉동', 'dmY': '128.074596'}, {'dmX': '35.193333', 'item': 'SO2, CO, O3, NO2, PM10, PM2.5', 'mangName': '도시대기', 'year': '1997', 'addr': '경남 진주시 진주대로 1052 (중소기업은행)', 'stationName': '대안동', 'dmY': '128.084167'}, {'dmX': '35.180609', 'item': 'SO2, CO, O3, NO2, PM10, PM2.5', 'mangName': '도시대기', 'year': '2005', 'addr': '경남 진주시 동진로 279 (한국전력공사 진주지점)', 'stationName': '상대동(진주)', 'dmY': '128.121781'}, {'dmX': '35.1246016667', 'item': 'SO2, CO, O3, NO2, PM10, PM2.5', 'mangName': '도시대기', 'year': '2020', 'addr': '경남 진주시 정촌면 예하리 1340 예하초등학교 앞 공원 지상', 'stationName': '정촌면', 'dmY': '128.09992247'}, {'dmX': '35.243402', 'item': 'SO2, CO, O3, NO2, PM10, PM2.5', 'mangName': '도시대기', 'year': '1993', 'addr': '경남 창원시 의창구 우곡로101번길 28 명서2동 민원센터 (명서동)', 'stationName': '명서동', 'dmY': '128.641756'}, {'dmX': '35.217333', 'item': 'SO2, CO, O3, NO2, PM10, PM2.5', 'mangName': '도시대기', 'year': '1999', 'addr': '경남 창원시 성산구 공단로 303 (효성굿스프링스)', 'stationName': '웅남동', 'dmY': '128.656617'}, {'dmX': '35.1993934', 'item': 'SO2, CO, O3, NO2, PM10, PM2.5', 'mangName': '도시대기', 'year': '1997', 'addr': '경남 창원시 성산구 외리로14번길 18 성주민원센터', 'stationName': '성주동', 'dmY': '128.7108707'}, {'dmX': '35.236111', 'item': 'SO2, CO, O3, NO2, PM10, PM2.5', 'mangName': '도시대기', 'year': '2007', 'addr': '경남 창원시 의창구 용지로 239번길 19-4 (용지동 주민센터)', 'stationName': '용지동', 'dmY': '128.683889'}, {'dmX': '35.2341412', 'item': 'SO2, CO, O3, NO2, PM10, PM2.5', 'mangName': '도로변대기', 'year': '2008', 'addr': '경남 창원시 의창구 원이대로 450 (시설관리공단 실내수영장 앞)', 'stationName': '반송로', 'dmY': '128.6646236'}, {'dmX': '35.221729', 'item': 'SO2, CO, O3, NO2, PM10, PM2.5', 'mangName': '도시대기', 'year': '2009', 'addr': '경남 창원시 성산구 창이대로 706번길 16-23 (사파민원센터)', 'stationName': '사파동', 'dmY': '128.69825'}], 'pageNo': 1, 'numOfRows': 200}, 'header': {'resultMsg': 'NORMAL_CODE', 'resultCode': '00'}}}\n"
     ]
    }
   ],
   "source": [
    "print(data)"
   ]
  },
  {
   "cell_type": "code",
   "execution_count": 28,
   "metadata": {},
   "outputs": [],
   "source": [
    "items = data['response']['body']['items']"
   ]
  },
  {
   "cell_type": "code",
   "execution_count": 32,
   "metadata": {},
   "outputs": [],
   "source": [
    "# 선택할 컬럼 목록\n",
    "columns = ['dmX', 'year', 'addr', 'stationName', 'dmY']\n",
    "\n",
    "# 필요한 컬럼만 포함한 리스트 생성\n",
    "filtered_items = [{col: item[col] for col in columns} for item in items]"
   ]
  },
  {
   "cell_type": "code",
   "execution_count": 33,
   "metadata": {},
   "outputs": [],
   "source": [
    "# 데이터 프레임으로 변환\n",
    "station = pd.DataFrame(filtered_items)"
   ]
  },
  {
   "cell_type": "code",
   "execution_count": 36,
   "metadata": {},
   "outputs": [],
   "source": [
    "station.to_csv('station.csv', index=False)"
   ]
  },
  {
   "cell_type": "code",
   "execution_count": 17,
   "metadata": {},
   "outputs": [],
   "source": [
    "test = pd.read_csv(\"station.csv\")"
   ]
  },
  {
   "cell_type": "code",
   "execution_count": null,
   "metadata": {},
   "outputs": [],
   "source": [
    "test.head(49)"
   ]
  },
  {
   "cell_type": "code",
   "execution_count": 19,
   "metadata": {},
   "outputs": [
    {
     "data": {
      "text/plain": [
       "Index(['dmX', 'year', 'addr', 'stationName', 'dmY'], dtype='object')"
      ]
     },
     "execution_count": 19,
     "metadata": {},
     "output_type": "execute_result"
    }
   ],
   "source": [
    "test.columns"
   ]
  },
  {
   "cell_type": "code",
   "execution_count": 20,
   "metadata": {},
   "outputs": [],
   "source": [
    "test = pd.DataFrame(test)"
   ]
  },
  {
   "cell_type": "code",
   "execution_count": 21,
   "metadata": {},
   "outputs": [],
   "source": [
    "columns = ['dmX', 'dmY', 'year', 'addr', 'stationName']"
   ]
  },
  {
   "cell_type": "code",
   "execution_count": 22,
   "metadata": {},
   "outputs": [],
   "source": [
    "test = test[columns]"
   ]
  },
  {
   "cell_type": "code",
   "execution_count": 25,
   "metadata": {},
   "outputs": [
    {
     "data": {
      "text/plain": [
       "pandas.core.frame.DataFrame"
      ]
     },
     "execution_count": 25,
     "metadata": {},
     "output_type": "execute_result"
    }
   ],
   "source": [
    "type(test)"
   ]
  },
  {
   "cell_type": "code",
   "execution_count": 26,
   "metadata": {},
   "outputs": [],
   "source": [
    "test.to_csv('PM_station.csv', index=False, encoding='utf-8-sig')"
   ]
  }
 ],
 "metadata": {
  "kernelspec": {
   "display_name": "Python 3",
   "language": "python",
   "name": "python3"
  },
  "language_info": {
   "codemirror_mode": {
    "name": "ipython",
    "version": 3
   },
   "file_extension": ".py",
   "mimetype": "text/x-python",
   "name": "python",
   "nbconvert_exporter": "python",
   "pygments_lexer": "ipython3",
   "version": "3.9.13"
  }
 },
 "nbformat": 4,
 "nbformat_minor": 2
}
