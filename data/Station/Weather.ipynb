{
 "cells": [
  {
   "cell_type": "code",
   "execution_count": 1,
   "metadata": {},
   "outputs": [],
   "source": [
    "import pandas as pd\n",
    "import numpy as np"
   ]
  },
  {
   "cell_type": "code",
   "execution_count": 5,
   "metadata": {},
   "outputs": [
    {
     "name": "stdout",
     "output_type": "stream",
     "text": [
      "Successfully read the file with encoding: cp1252\n",
      "   ÁöÁ¡      ½ÃÀÛÀÏ      Á¾·áÀÏ ÁöÁ¡¸í  \\\n",
      "0   155  2010-07-22         NaN   Ã¢¿ø   \n",
      "1   155  2004-12-16  2010-07-22   Ã¢¿ø   \n",
      "2   155  1985-07-01  2004-12-16   Ã¢¿ø   \n",
      "3   162  1968-01-01         NaN   Åë¿µ   \n",
      "4   192  2005-11-23         NaN   ÁøÁÖ   \n",
      "\n",
      "                                            ÁöÁ¡ÁÖ¼Ò             °ü¸®°ü¼­  \\\n",
      "0  °æ»ó³²µµ Ã¢¿ø½Ã¸¶»êÇÕÆ÷±¸ °¡Æ÷¼øÈ¯·Î172 Ã¢¿ø±â...      Ã¢¿ø±â»ó´ë(155)   \n",
      "1  °æ»ó³²µµ Ã¢¿ø½Ã¸¶»êÇÕÆ÷±¸ °¡Æ÷¼øÈ¯·Î172 Ã¢¿ø±â...                  NaN   \n",
      "2  °æ»ó³²µµ Ã¢¿ø½Ã¸¶»êÇÕÆ÷±¸ °¡Æ÷¼øÈ¯·Î172 Ã¢¿ø±â...                  NaN   \n",
      "3  °æ»ó³²µµ Åë¿µ½Ã ¸ÁÀÏ1±æ 67Åë¿µÀÚµ¿±â»ó°üÃø¼Ò(Á...  ºÎ»êÁö¹æ±â»óÃ»(159)   \n",
      "4  °æ»ó³²µµ ÁøÁÖ½Ã ³²°­·Î 43ÁøÁÖÀÚµ¿±â»ó°üÃø¼Ò(Æò...      Ã¢¿ø±â»ó´ë(155)   \n",
      "\n",
      "      À§µµ      °æµµ  ³ëÀåÇØ¹ß°íµµ(m)  ±â¾Ð°è(°üÃøÀåºñÁö»ó³ôÀÌ(m))  \\\n",
      "0  35.1702  128.5728            34.97                         39.1   \n",
      "1  35.1671  128.5751            36.80                         37.9   \n",
      "2  35.1903  128.5652            11.25                          4.9   \n",
      "3  34.8454  128.4356            31.24                         33.2   \n",
      "4  35.1638  128.0400            29.35                         31.6   \n",
      "\n",
      "   ±â¿Â°è(°üÃøÀåºñÁö»ó³ôÀÌ(m))  Ç³¼Ó°è(°üÃøÀåºñÁö»ó³ôÀÌ(m))  \\\n",
      "0                          1.7                         10.0   \n",
      "1                          1.7                         10.0   \n",
      "2                          1.5                         17.6   \n",
      "3                          1.5                         18.0   \n",
      "4                          1.8                         10.0   \n",
      "\n",
      "   °­¿ì°è(°üÃøÀåºñÁö»ó³ôÀÌ(m))  \n",
      "0                          1.3  \n",
      "1                          0.5  \n",
      "2                          0.6  \n",
      "3                          1.3  \n",
      "4                          1.3  \n"
     ]
    }
   ],
   "source": [
    "# 인코딩을 지정하여 CSV 파일 읽기\n",
    "csv_filename = \"./Weather_station.csv\"\n",
    "\n",
    "# 여러 인코딩 시도해보기\n",
    "encodings = ['cp1252']\n",
    "\n",
    "for encoding in encodings:\n",
    "    try:\n",
    "        weather_station = pd.read_csv(csv_filename, encoding=encoding)\n",
    "        print(f\"Successfully read the file with encoding: {encoding}\")\n",
    "        break\n",
    "    except UnicodeDecodeError:\n",
    "        print(f\"Failed to read the file with encoding: {encoding}\")\n",
    "\n",
    "# 데이터 프레임 출력\n",
    "print(weather_station.head())"
   ]
  },
  {
   "cell_type": "code",
   "execution_count": null,
   "metadata": {},
   "outputs": [],
   "source": []
  }
 ],
 "metadata": {
  "kernelspec": {
   "display_name": "Python 3",
   "language": "python",
   "name": "python3"
  },
  "language_info": {
   "codemirror_mode": {
    "name": "ipython",
    "version": 3
   },
   "file_extension": ".py",
   "mimetype": "text/x-python",
   "name": "python",
   "nbconvert_exporter": "python",
   "pygments_lexer": "ipython3",
   "version": "3.9.13"
  }
 },
 "nbformat": 4,
 "nbformat_minor": 2
}
